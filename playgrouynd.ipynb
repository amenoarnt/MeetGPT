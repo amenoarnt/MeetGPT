{
 "cells": [
  {
   "cell_type": "code",
   "execution_count": 2,
   "metadata": {},
   "outputs": [],
   "source": [
    "import openai\n",
    "from dotenv import find_dotenv, load_dotenv\n",
    "\n",
    "_ = load_dotenv(find_dotenv())\n",
    "\n",
    "\n",
    "client = openai.OpenAI()\n"
   ]
  },
  {
   "cell_type": "code",
   "execution_count": 3,
   "metadata": {},
   "outputs": [],
   "source": [
    "def chat_openai(\n",
    "        mensagens,\n",
    "        modelo='gpt-3.5-turbo-1106',\n",
    "        temperatura=0,\n",
    "        stream=False\n",
    "):\n",
    "    resposta = client.chat.completions.create(\n",
    "        model=modelo,\n",
    "        messages=mensagens,\n",
    "        temperature=temperatura,\n",
    "        stream=stream\n",
    "    )\n",
    "    return resposta\n"
   ]
  },
  {
   "cell_type": "code",
   "execution_count": 4,
   "metadata": {},
   "outputs": [],
   "source": [
    "mensagens = [{'role':\"user\", 'content': 'O que é um rinoceronte branco?'}]\n",
    "resposta = chat_openai(mensagens)"
   ]
  },
  {
   "cell_type": "code",
   "execution_count": 6,
   "metadata": {},
   "outputs": [
    {
     "data": {
      "text/plain": [
       "'O rinoceronte branco é uma espécie de rinoceronte que pode ser encontrada na África. Ele é o maior dos rinocerontes e possui um grande corpo, pernas curtas e um grande chifre na parte frontal do rosto. Apesar do nome, a cor do rinoceronte branco pode variar de cinza a marrom, e o nome \"branco\" provavelmente se originou de uma má tradução do termo africâner \"wyd\", que significa \"amplo\" ou \"largo\", referindo-se à boca larga do animal. O rinoceronte branco é uma espécie ameaçada de extinção devido à caça furtiva e à perda de habitat.'"
      ]
     },
     "execution_count": 6,
     "metadata": {},
     "output_type": "execute_result"
    }
   ],
   "source": [
    "resposta.choices[0].message.content"
   ]
  },
  {
   "cell_type": "code",
   "execution_count": 7,
   "metadata": {},
   "outputs": [
    {
     "data": {
      "text/plain": [
       "[{'role': 'user', 'content': 'O que é um rinoceronte branco?'},\n",
       " {'role': 'assistant',\n",
       "  'content': 'O rinoceronte branco é uma espécie de rinoceronte que pode ser encontrada na África. Ele é o maior dos rinocerontes e possui um grande corpo, pernas curtas e um grande chifre na parte frontal do rosto. Apesar do nome, a cor do rinoceronte branco pode variar de cinza a marrom, e o nome \"branco\" provavelmente se originou de uma má tradução do termo africâner \"wyd\", que significa \"amplo\" ou \"largo\", referindo-se à boca larga do animal. O rinoceronte branco é uma espécie ameaçada de extinção devido à caça furtiva e à perda de habitat.'}]"
      ]
     },
     "execution_count": 7,
     "metadata": {},
     "output_type": "execute_result"
    }
   ],
   "source": [
    "mensagens.append({'role':\"assistant\", 'content': resposta.choices[0].message.content})\n",
    "mensagens"
   ]
  },
  {
   "cell_type": "code",
   "execution_count": 8,
   "metadata": {},
   "outputs": [
    {
     "data": {
      "text/plain": [
       "[{'role': 'user', 'content': 'O que é um rinoceronte branco?'},\n",
       " {'role': 'assistant',\n",
       "  'content': 'O rinoceronte branco é uma espécie de rinoceronte que pode ser encontrada na África. Ele é o maior dos rinocerontes e possui um grande corpo, pernas curtas e um grande chifre na parte frontal do rosto. Apesar do nome, a cor do rinoceronte branco pode variar de cinza a marrom, e o nome \"branco\" provavelmente se originou de uma má tradução do termo africâner \"wyd\", que significa \"amplo\" ou \"largo\", referindo-se à boca larga do animal. O rinoceronte branco é uma espécie ameaçada de extinção devido à caça furtiva e à perda de habitat.'},\n",
       " {'role': 'user', 'content': 'em qual país ele é encontrado?'}]"
      ]
     },
     "execution_count": 8,
     "metadata": {},
     "output_type": "execute_result"
    }
   ],
   "source": [
    "mensagens.append({'role':\"user\", 'content': 'em qual país ele é encontrado?'})\n",
    "mensagens"
   ]
  },
  {
   "cell_type": "code",
   "execution_count": 9,
   "metadata": {},
   "outputs": [
    {
     "data": {
      "text/plain": [
       "'O rinoceronte branco é encontrado principalmente em países do sul da África, como África do Sul, Namíbia, Zimbábue, Botsuana, Essuatíni e Uganda. Esses países abrigam a maior parte da população de rinocerontes brancos, tanto em parques nacionais quanto em reservas naturais.'"
      ]
     },
     "execution_count": 9,
     "metadata": {},
     "output_type": "execute_result"
    }
   ],
   "source": [
    "resposta = chat_openai(mensagens)\n",
    "resposta.choices[0].message.content"
   ]
  }
 ],
 "metadata": {
  "kernelspec": {
   "display_name": "base",
   "language": "python",
   "name": "python3"
  },
  "language_info": {
   "codemirror_mode": {
    "name": "ipython",
    "version": 3
   },
   "file_extension": ".py",
   "mimetype": "text/x-python",
   "name": "python",
   "nbconvert_exporter": "python",
   "pygments_lexer": "ipython3",
   "version": "3.10.13"
  }
 },
 "nbformat": 4,
 "nbformat_minor": 2
}
